{
  "nbformat": 4,
  "nbformat_minor": 0,
  "metadata": {
    "kernelspec": {
      "display_name": "Python 3",
      "language": "python",
      "name": "python3"
    },
    "language_info": {
      "codemirror_mode": {
        "name": "ipython",
        "version": 3
      },
      "file_extension": ".py",
      "mimetype": "text/x-python",
      "name": "python",
      "nbconvert_exporter": "python",
      "pygments_lexer": "ipython3",
      "version": "3.8.3"
    },
    "colab": {
      "name": "ex1.ipynb",
      "provenance": [],
      "collapsed_sections": []
    }
  },
  "cells": [
    {
      "cell_type": "markdown",
      "metadata": {
        "id": "3Gdx2tRSo651",
        "colab_type": "text"
      },
      "source": [
        "![image](resources/qgss-header.png)"
      ]
    },
    {
      "cell_type": "markdown",
      "metadata": {
        "id": "jLVpU7k2o653",
        "colab_type": "text"
      },
      "source": [
        "# Lab 6: Qubit Drive: Rabi & Ramsey Experiments"
      ]
    },
    {
      "cell_type": "markdown",
      "metadata": {
        "id": "bGEgQO4Do655",
        "colab_type": "text"
      },
      "source": [
        "In this lab, you will take what you learned about qubit drive to perform Rabi and Ramsey experiment on a Pulse Simulator. The goal of this lab is to familiarize yourself with the important concepts of manipulating qubit states with microwave pulses."
      ]
    },
    {
      "cell_type": "markdown",
      "metadata": {
        "id": "3T8LVtSdo656",
        "colab_type": "text"
      },
      "source": [
        "### Installing Necessary Packages\n",
        "Before we begin, you will need to install some prerequisites into your environment. Run the cell below to complete these installations. At the end, the cell outputs will be cleared."
      ]
    },
    {
      "cell_type": "code",
      "metadata": {
        "id": "1znMnZXio658",
        "colab_type": "code",
        "colab": {}
      },
      "source": [
        "!pip install -U -r grading_tools/requirements.txt\n",
        "\n",
        "from IPython.display import clear_output\n",
        "clear_output()"
      ],
      "execution_count": 3,
      "outputs": []
    },
    {
      "cell_type": "markdown",
      "metadata": {
        "id": "3AbcJW1Uo66F",
        "colab_type": "text"
      },
      "source": [
        "## Simulating the Transmon as a Duffing Oscillator"
      ]
    },
    {
      "cell_type": "markdown",
      "metadata": {
        "id": "x_FKn6K7o66F",
        "colab_type": "text"
      },
      "source": [
        "As you learned in Lecture 6, the transmon can be understood as a Duffing oscillator specified by a frequency $\\nu$, anharmonicity $\\alpha$, and drive strength $r$, which results in the Hamiltonian\n",
        "$$\n",
        "   \\hat{H}_{\\rm Duff}/\\hbar = 2\\pi\\nu a^\\dagger a + \\pi \\alpha a^\\dagger a(a^\\dagger a - 1) + 2 \\pi r (a + a^\\dagger) \\times D(t),\n",
        "$$\n",
        "\n",
        "where $D(t)$ is the signal on the drive channel for the qubit, and $a^\\dagger$ and $a$ are, respectively, the creation and annihilation operators for the qubit. Note that the drive strength $r$ sets the scaling of the control term, with $D(t)$ assumed to be a complex and unitless number satisfying $|D(t)| \\leq 1$. "
      ]
    },
    {
      "cell_type": "markdown",
      "metadata": {
        "id": "c4qadLdWo66G",
        "colab_type": "text"
      },
      "source": [
        "## Qiskit Pulse Overview\n",
        "\n",
        "As a brief overview, Qiskit Pulse schedules (experiments) consist of Instructions (i.e., Play) acting on Channels (i.e., the drive channel). Here is a summary table of available Instructions and Channels:\n",
        "\n",
        "![image](resources/pulse-instr.png)\n",
        "\n",
        "For more detail, this table summarizes the interaction of the channels with the actual quantum hardware:\n",
        "\n",
        "![image](resources/pulse-user-device-layers.png)\n",
        "\n",
        "However, we find it is more instructive to begin with guided programming in Pulse. Below you will learn how to create pulses, schedules, and run experiments on a simulator. These lessons can be immediately applied to actual pulse-enabled quantum hardware, in particular [`ibmq_armonk`](https://www.ibm.com/blogs/research/2019/12/qiskit-openpulse/)."
      ]
    },
    {
      "cell_type": "markdown",
      "metadata": {
        "id": "LMTgoo_co66H",
        "colab_type": "text"
      },
      "source": [
        "## Let's get started!"
      ]
    },
    {
      "cell_type": "markdown",
      "metadata": {
        "id": "Zt8JUIwio66J",
        "colab_type": "text"
      },
      "source": [
        "In most of the cells below, nothing needs to be modified. **However, you will need to execute the cells by pressing `shift+Enter` in each code block**. In order to keep things tidy and focus on the important aspects of Qiskit Pulse, the following cells make use of methods from the `helper` module. For the gory details, please refer back to the [Lab 6 notebook](lab6-drive-ham-rabi-ramsey.ipynb). Before coming to Exercise 1a, the following code blocks\n",
        "\n",
        "- create backend pulse simulator and instantiate the transmon as a Duffing oscillator of frequency $\\sim 5$ GHz\n",
        "- import libraries for numerics and visualization, and define helpful constants\n",
        "- create the channels for the pulse schedule and define measurment schedule (we will only work with the drive channel)"
      ]
    },
    {
      "cell_type": "code",
      "metadata": {
        "id": "VT0dRO6fo66J",
        "colab_type": "code",
        "colab": {}
      },
      "source": [
        "# our backend is the Pulse Simulator\n",
        "from resources import helper\n",
        "from qiskit.providers.aer import PulseSimulator\n",
        "backend_sim = PulseSimulator()\n",
        "\n",
        "# sample duration for pulse instructions \n",
        "dt = 1e-9\n",
        "\n",
        "# create the model\n",
        "duffing_model = helper.get_transmon(dt)\n",
        "\n",
        "# get qubit frequency from Duffing model\n",
        "qubit_lo_freq = duffing_model.hamiltonian.get_qubit_lo_from_drift()"
      ],
      "execution_count": 4,
      "outputs": []
    },
    {
      "cell_type": "code",
      "metadata": {
        "id": "_32QU8Qbo66O",
        "colab_type": "code",
        "colab": {}
      },
      "source": [
        "import numpy as np\n",
        "\n",
        "# visualization tools\n",
        "import matplotlib.pyplot as plt\n",
        "plt.style.use('dark_background')\n",
        "\n",
        "# unit conversion factors -> all backend properties returned in SI (Hz, sec, etc)\n",
        "GHz = 1.0e9 # Gigahertz\n",
        "MHz = 1.0e6 # Megahertz\n",
        "kHz = 1.0e3 # kilohertz\n",
        "us = 1.0e-6 # microseconds\n",
        "ns = 1.0e-9 # nanoseconds"
      ],
      "execution_count": 5,
      "outputs": []
    },
    {
      "cell_type": "markdown",
      "metadata": {
        "id": "pqIsDSZLo66T",
        "colab_type": "text"
      },
      "source": [
        "### Instantiate channels and create measurement schedule\n",
        "\n",
        "We will use the same measurement schedule throughout, whereas the drive schedules will vary. This must be built for the simulator, for a real backend we can ask for its default measurement pulse."
      ]
    },
    {
      "cell_type": "code",
      "metadata": {
        "id": "_dgYiVHto66U",
        "colab_type": "code",
        "colab": {}
      },
      "source": [
        "from qiskit import pulse\n",
        "from qiskit.pulse import Play, Acquire\n",
        "from qiskit.pulse.pulse_lib import GaussianSquare\n",
        "\n",
        "# qubit to be used throughout the notebook\n",
        "qubit = 0\n",
        "\n",
        "### Collect the necessary channels\n",
        "drive_chan = pulse.DriveChannel(qubit)\n",
        "meas_chan = pulse.MeasureChannel(qubit)\n",
        "acq_chan = pulse.AcquireChannel(qubit)\n",
        "\n",
        "# Construct a measurement schedule and add it to an InstructionScheduleMap\n",
        "meas_samples = 1200\n",
        "meas_pulse = GaussianSquare(duration=meas_samples, amp=0.025, sigma=4, width=1150)\n",
        "measure_sched = Play(meas_pulse, meas_chan) | Acquire(meas_samples, acq_chan, pulse.MemorySlot(qubit))\n",
        "\n",
        "inst_map = pulse.InstructionScheduleMap()\n",
        "inst_map.add('measure', [qubit], measure_sched)\n",
        "\n",
        "# save the measurement/acquire pulse for later\n",
        "measure = inst_map.get('measure', qubits=[qubit])"
      ],
      "execution_count": 6,
      "outputs": []
    },
    {
      "cell_type": "markdown",
      "metadata": {
        "id": "dKGzPHxZo66Y",
        "colab_type": "text"
      },
      "source": [
        "## Graded Exercise 1a: Rabi Schedule\n",
        "\n",
        "Add code to the method below in order to build a Rabi pulse schedule. A Rabi experiment consists of a drive pulse at the qubit frequency, followed by a measurement. A list of Rabis schedules will vary the drive amplitude each time. For a review of creating pulse schedules, see [Lab 6 notebook](lab6-drive-ham-rabi-ramsey.ipynb)."
      ]
    },
    {
      "cell_type": "code",
      "metadata": {
        "id": "vwgZbQb5o66Z",
        "colab_type": "code",
        "colab": {}
      },
      "source": [
        "from qiskit.pulse import pulse_lib\n",
        "\n",
        "def build_rabi_pulse_schedule(drive_duration, drive_amp, drive_sigma):\n",
        "    ### create a Rabi schedule (already done)\n",
        "    ### create a Gaussian Rabi pulse using pulse_lib\n",
        "    ### play Rabi pulse on the Rabi schedule and return\n",
        "    \n",
        "    rabi_schedule = pulse.Schedule(name='rabi_experiment')\n",
        "    \n",
        "    ### WRITE YOUR CODE BETWEEN THESE LINES - START\n",
        "    \n",
        "    rabi_pulse = pulse_lib.gaussian(duration=drive_duration, amp=drive_amp,\n",
        "                                        sigma=drive_sigma)\n",
        "    rabi_schedule = pulse.Schedule()\n",
        "    rabi_schedule += Play(rabi_pulse, drive_chan)\n",
        "    \n",
        "    ### WRITE YOUR CODE BETWEEN THESE LINES - END\n",
        "    \n",
        "    # add measurement to rabi_schedule\n",
        "    # << indicates time shift the beginning to the start of the schedule\n",
        "    rabi_schedule += measure << rabi_schedule.duration\n",
        "    return rabi_schedule"
      ],
      "execution_count": 7,
      "outputs": []
    },
    {
      "cell_type": "markdown",
      "metadata": {
        "id": "GRp7ME1Bo66h",
        "colab_type": "text"
      },
      "source": [
        "### From the Rabi schedule of Exercise 1a, create a list of schedules for the experiment"
      ]
    },
    {
      "cell_type": "code",
      "metadata": {
        "id": "nuZ8aPd1o66i",
        "colab_type": "code",
        "colab": {}
      },
      "source": [
        "# Gaussian pulse parameters, with varying amplitude\n",
        "drive_duration = 128\n",
        "num_rabi_points = 41\n",
        "drive_amps = np.linspace(0, 0.9, num_rabi_points)\n",
        "drive_sigma = 16\n",
        "\n",
        "# now vary the amplitude for each drive amp\n",
        "rabi_schedules = []\n",
        "for drive_amp in drive_amps:\n",
        "    rabi_schedules.append(build_rabi_pulse_schedule(drive_duration, drive_amp, drive_sigma))"
      ],
      "execution_count": 8,
      "outputs": []
    },
    {
      "cell_type": "code",
      "metadata": {
        "id": "y7dRX4Hyo66m",
        "colab_type": "code",
        "colab": {
          "base_uri": "https://localhost:8080/",
          "height": 750
        },
        "outputId": "e99ed259-5576-4600-ff8e-a2ac4090b8e7"
      },
      "source": [
        "rabi_schedules[-1].draw() "
      ],
      "execution_count": 9,
      "outputs": [
        {
          "output_type": "execute_result",
          "data": {
            "image/png": "[encoded data removed]",
            "text/plain": [
              "<Figure size 720x864 with 1 Axes>"
            ]
          },
          "metadata": {
            "tags": []
          },
          "execution_count": 9
        }
      ]
    },
    {
      "cell_type": "code",
      "metadata": {
        "id": "jkn_nQ10o66t",
        "colab_type": "code",
        "colab": {}
      },
      "source": [
        "# assemble the schedules into a Qobj\n",
        "from qiskit import assemble\n",
        "\n",
        "rabi_qobj = assemble(**helper.get_params('rabi', globals()))\n",
        "answer1a = rabi_qobj"
      ],
      "execution_count": 10,
      "outputs": []
    },
    {
      "cell_type": "code",
      "metadata": {
        "id": "QU4BCkCAo66w",
        "colab_type": "code",
        "colab": {}
      },
      "source": [
        "# run the simulation\n",
        "rabi_result = backend_sim.run(rabi_qobj, duffing_model).result()"
      ],
      "execution_count": 11,
      "outputs": []
    },
    {
      "cell_type": "code",
      "metadata": {
        "id": "9ZGz2shSo662",
        "colab_type": "code",
        "colab": {}
      },
      "source": [
        "# retrieve the data from the experiment\n",
        "rabi_values = helper.get_values_from_result(rabi_result, qubit)"
      ],
      "execution_count": 12,
      "outputs": []
    },
    {
      "cell_type": "markdown",
      "metadata": {
        "id": "vUKlflIso666",
        "colab_type": "text"
      },
      "source": [
        "### Fit Results and Plot Rabi Experiment\n",
        "Once the rough frequency of the qubit is know, the Rabi experiment determines the amplitude of a $\\pi$-pulse, that is, the strength of a pulse needed to rotate the qubit around the Bloch sphere from the $|0\\rangle$ to $|1\\rangle$ states (or vice versa). We assume the rotation axis to be the $x$-axis."
      ]
    },
    {
      "cell_type": "code",
      "metadata": {
        "id": "XuMJmsz5o667",
        "colab_type": "code",
        "colab": {
          "base_uri": "https://localhost:8080/",
          "height": 301
        },
        "outputId": "dde64f09-d74f-431f-c6dd-ad1ba6a5c2fa"
      },
      "source": [
        "fit_params, y_fit = helper.fit_sinusoid(drive_amps, rabi_values, [1, 0, 0.5, 0])\n",
        "\n",
        "plt.scatter(drive_amps, rabi_values, color='white')\n",
        "plt.plot(drive_amps, y_fit, color='red')\n",
        "\n",
        "drive_period = fit_params[2] # get period of rabi oscillation\n",
        "\n",
        "plt.axvline(0, color='red', linestyle='--')\n",
        "plt.axvline(drive_period/2, color='red', linestyle='--')\n",
        "plt.xlabel(\"Drive amp [a.u.]\", fontsize=15)\n",
        "plt.ylabel(\"Measured signal [a.u.]\", fontsize=15)\n",
        "plt.show()\n",
        "\n",
        "print(\"Pi pulse amplitude is %f\"%float(drive_period/2))"
      ],
      "execution_count": 13,
      "outputs": [
        {
          "output_type": "display_data",
          "data": {
            "image/png": "[encoded data removed]",
            "text/plain": [
              "<Figure size 432x288 with 1 Axes>"
            ]
          },
          "metadata": {
            "tags": []
          }
        },
        {
          "output_type": "stream",
          "text": [
            "Pi pulse amplitude is 0.309237\n"
          ],
          "name": "stdout"
        }
      ]
    },
    {
      "cell_type": "markdown",
      "metadata": {
        "id": "sbsVSpfPo67C",
        "colab_type": "text"
      },
      "source": [
        "The $\\pi$ pulse amplitude is half the period of the sinusoid (a full period of $360^\\circ$ brings it back to zero, but we wish to take the qubit from the zero to one state). For the following experiment, we want a $\\pi/2$ pulse: we wish to place the qubit on the equator of the Bloch sphere. The following creates a pulse that rotates the qubit $\\pi/2$ ($90^\\circ$ degrees) around the Bloch sphere:"
      ]
    },
    {
      "cell_type": "code",
      "metadata": {
        "id": "VWyYQo48o67C",
        "colab_type": "code",
        "colab": {}
      },
      "source": [
        "# x_90 is a concise way to say pi_over_2; i.e., an X rotation of 90 degrees\n",
        "x90_pulse = pulse_lib.gaussian(duration=drive_duration,\n",
        "                               amp=drive_period/4, \n",
        "                               sigma=drive_sigma,\n",
        "                               name='x90_pulse')"
      ],
      "execution_count": 14,
      "outputs": []
    },
    {
      "cell_type": "markdown",
      "metadata": {
        "id": "EBaflKnVo67G",
        "colab_type": "text"
      },
      "source": [
        "## Ramsey Experiment\n",
        "\n",
        "The Ramsey experiment reveals the time dynamics of driving the qubit off-resonantly. In particular, we vary the delay between two $\\pi/2$-pulses."
      ]
    },
    {
      "cell_type": "code",
      "metadata": {
        "id": "vpfDn0Hao67H",
        "colab_type": "code",
        "colab": {}
      },
      "source": [
        "# Ramsey experiment parameters\n",
        "time_max_us = 0.4\n",
        "time_step_us = 0.0035\n",
        "times_us = np.arange(0.1, time_max_us, time_step_us)\n",
        "# Convert to units of dt\n",
        "delay_times_dt = times_us * us / dt"
      ],
      "execution_count": 15,
      "outputs": []
    },
    {
      "cell_type": "markdown",
      "metadata": {
        "id": "vdgBQySco67K",
        "colab_type": "text"
      },
      "source": [
        "## Graded Exercise 1b: Ramsey Schedule\n",
        "\n",
        "Add code to the method below in order to build a Ramsey pulse schedule. For a review of creating pulse schedules, see [Lab 6 notebook](lab6-drive-ham-rabi-ramsey.ipynb)."
      ]
    },
    {
      "cell_type": "code",
      "metadata": {
        "id": "2iEvmO5Fo67L",
        "colab_type": "code",
        "colab": {}
      },
      "source": [
        "def build_ramsey_pulse_schedule(delay):\n",
        "    ### create a Ramsey pulse schedule (already done)\n",
        "    ### play an x90 pulse on the drive channel\n",
        "    ### play another x90 pulse after delay\n",
        "    ### add measurement pulse to schedule\n",
        "    \n",
        "    ramsey_schedule = pulse.Schedule(name='ramsey_experiment')\n",
        "    \n",
        "    ### HINT: include delay by adding it to the duration of the schedule\n",
        "    ###       round delay to nearest integer with int(delay)\n",
        "    \n",
        "    ### WRITE YOUR CODE BETWEEN THESE LINES - START\n",
        "    \n",
        "    ramsey_schedule = pulse.Schedule()\n",
        "    ramsey_schedule += Play(x90_pulse, drive_chan)\n",
        "    ramsey_schedule += Play(x90_pulse, drive_chan) << ramsey_schedule.duration + int(delay)\n",
        "    ramsey_schedule += measure << ramsey_schedule.duration\n",
        "    \n",
        "    ### WRITE YOUR CODE BETWEEN THESE LINES - END\n",
        "    \n",
        "    return ramsey_schedule"
      ],
      "execution_count": 16,
      "outputs": []
    },
    {
      "cell_type": "code",
      "metadata": {
        "id": "WPgPjPxeo67P",
        "colab_type": "code",
        "colab": {}
      },
      "source": [
        "# create schedules for Ramsey experiment \n",
        "ramsey_schedules = []\n",
        "for delay in delay_times_dt:\n",
        "    ramsey_schedules.append(build_ramsey_pulse_schedule(delay))"
      ],
      "execution_count": 17,
      "outputs": []
    },
    {
      "cell_type": "code",
      "metadata": {
        "id": "cGROf6uWo67U",
        "colab_type": "code",
        "colab": {
          "base_uri": "https://localhost:8080/",
          "height": 750
        },
        "outputId": "1cb3022d-c649-4e2c-a91c-561a89a19c4f"
      },
      "source": [
        "ramsey_schedules[-1].draw()"
      ],
      "execution_count": 18,
      "outputs": [
        {
          "output_type": "execute_result",
          "data": {
            "image/png": "[encoded data removed]",
            "text/plain": [
              "<Figure size 720x864 with 1 Axes>"
            ]
          },
          "metadata": {
            "tags": []
          },
          "execution_count": 18
        }
      ]
    },
    {
      "cell_type": "code",
      "metadata": {
        "id": "Vt_7_i2uo67Y",
        "colab_type": "code",
        "colab": {}
      },
      "source": [
        "# assemble the schedules into a Qobj\n",
        "# the helper will drive the pulses off-resonantly by an unknown value\n",
        "ramsey_qobj = assemble(**helper.get_params('ramsey', globals()))\n",
        "answer1b = ramsey_qobj"
      ],
      "execution_count": 19,
      "outputs": []
    },
    {
      "cell_type": "code",
      "metadata": {
        "id": "xR4RNxato67a",
        "colab_type": "code",
        "colab": {}
      },
      "source": [
        "# run the simulation\n",
        "ramsey_result = backend_sim.run(ramsey_qobj, duffing_model).result()"
      ],
      "execution_count": 20,
      "outputs": []
    },
    {
      "cell_type": "code",
      "metadata": {
        "id": "CE29M3fYo67c",
        "colab_type": "code",
        "colab": {}
      },
      "source": [
        "# retrieve the data from the experiment\n",
        "ramsey_values = helper.get_values_from_result(ramsey_result, qubit)"
      ],
      "execution_count": 21,
      "outputs": []
    },
    {
      "cell_type": "code",
      "metadata": {
        "id": "U9VI5Sr7o67f",
        "colab_type": "code",
        "colab": {
          "base_uri": "https://localhost:8080/",
          "height": 323
        },
        "outputId": "d2fd2b45-4c8e-428c-b53a-ef262714bd93"
      },
      "source": [
        "# off-resonance component\n",
        "fit_params, y_fit = helper.fit_sinusoid(times_us, ramsey_values, [1, 0.7, 0.1, 0.25])\n",
        "_, _, ramsey_period_us, _, = fit_params \n",
        "del_f_MHz = 1/ramsey_period_us # freq is MHz since times in us\n",
        "\n",
        "plt.scatter(times_us, np.real(ramsey_values), color='white')\n",
        "plt.plot(times_us, y_fit, color='red', label=f\"df = {del_f_MHz:.6f} MHz\")\n",
        "plt.xlim(np.min(times_us), np.max(times_us))\n",
        "plt.xlabel('Delay between X90 pulses [$\\mu$s]', fontsize=15)\n",
        "plt.ylabel('Measured Signal [a.u.]', fontsize=15)\n",
        "plt.title('Ramsey Experiment', fontsize=15)\n",
        "plt.legend(loc=3)\n",
        "plt.show()\n",
        "\n",
        "print(\"Drive is off-resonant by %f MHz\"%float(del_f_MHz))"
      ],
      "execution_count": 22,
      "outputs": [
        {
          "output_type": "display_data",
          "data": {
            "image/png": "[encoded data removed]",
            "text/plain": [
              "<Figure size 432x288 with 1 Axes>"
            ]
          },
          "metadata": {
            "tags": []
          }
        },
        {
          "output_type": "stream",
          "text": [
            "Drive is off-resonant by 8.699753 MHz\n"
          ],
          "name": "stdout"
        }
      ]
    },
    {
      "cell_type": "markdown",
      "metadata": {
        "id": "9ks456H1o67h",
        "colab_type": "text"
      },
      "source": [
        "Now grade your solutions by running the cell below. **Provide always the same name and email, as the one you wrote during the course sign up.**"
      ]
    },
    {
      "cell_type": "code",
      "metadata": {
        "id": "WSdG6eTco67h",
        "colab_type": "code",
        "colab": {
          "base_uri": "https://localhost:8080/",
          "height": 119
        },
        "outputId": "37ef1802-0fdf-4aa8-e78a-84d10799e991"
      },
      "source": [
        "name = 'Ameya Thete'\n",
        "email = 'ameyathete11@gmail.com'\n",
        "\n",
        "from grading_tools import grade\n",
        "grade(answer1a, name, email, 'lab6', 'ex1a')\n",
        "grade(answer1b, name, email, 'lab6', 'ex1b')"
      ],
      "execution_count": 23,
      "outputs": [
        {
          "output_type": "stream",
          "text": [
            "Grading...\n",
            "lab6/ex1b - 🎉 Correct\n",
            "🎊 Hurray! You have a new correct answer! Let's submit it.\n",
            "Submitting the answers for lab6...\n",
            "📝 Our records, so far, are:\n",
            "Correct answers: lab1:ex1, lab2:ex1, lab3:ex1, lab4:ex1, lab5:ex1, lab6:ex1a, lab6:ex1b\n"
          ],
          "name": "stdout"
        }
      ]
    },
    {
      "cell_type": "markdown",
      "metadata": {
        "id": "cV7--dR_o67l",
        "colab_type": "text"
      },
      "source": [
        "**Help us improve our educational tools by submitting your code**<br>\n",
        "If you would like to help us learn how to improve our educational materials and offerings, you can opt in to send us a copy of your Jupyter notebook. By executing the cell below, you consent to sending us the code in your Jupyter notebook. All of the personal information will be anonymized."
      ]
    },
    {
      "cell_type": "code",
      "metadata": {
        "id": "7bfwKXLSo67l",
        "colab_type": "code",
        "colab": {}
      },
      "source": [
        "from IPython.display import display, Javascript;display(Javascript('IPython.notebook.save_checkpoint();'));\n",
        "from grading_tools import send_code;send_code('ex1.ipynb')"
      ],
      "execution_count": null,
      "outputs": []
    },
    {
      "cell_type": "markdown",
      "metadata": {
        "id": "1YwOKiBlo67q",
        "colab_type": "text"
      },
      "source": [
        "# Additional Resources\n",
        "\n",
        "- The Qiskit textbook sections that cover this material are\n",
        "  - [Introduction to Transmon Physics](https://qiskit.org/textbook/ch-quantum-hardware/transmon-physics.html)\n",
        "  - [Calibrating Qubits with Qiskit Pulse](https://qiskit.org/textbook/ch-quantum-hardware/calibrating-qubits-openpulse.html)\n",
        "\n",
        "- Watch the videos\n",
        "  - [Quantum Coding with Lauren Capelluto](https://www.youtube.com/watch?v=ZvipHRY-URs)\n",
        "  - [\"Qiskit Pulse: Programming Quantum Computers Through the Cloud with Pulses\"](https://www.youtube.com/watch?v=V_as5PufUiU) webinar at CQT by yours truly"
      ]
    },
    {
      "cell_type": "code",
      "metadata": {
        "id": "SJEg8oTjo67q",
        "colab_type": "code",
        "colab": {}
      },
      "source": [
        ""
      ],
      "execution_count": null,
      "outputs": []
    }
  ]
}