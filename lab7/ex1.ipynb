{
  "nbformat": 4,
  "nbformat_minor": 0,
  "metadata": {
    "kernelspec": {
      "display_name": "Python 3",
      "language": "python",
      "name": "python3"
    },
    "language_info": {
      "codemirror_mode": {
        "name": "ipython",
        "version": 3
      },
      "file_extension": ".py",
      "mimetype": "text/x-python",
      "name": "python",
      "nbconvert_exporter": "python",
      "pygments_lexer": "ipython3",
      "version": "3.8.3"
    },
    "colab": {
      "name": "ex1.ipynb",
      "provenance": []
    }
  },
  "cells": [
    {
      "cell_type": "markdown",
      "metadata": {
        "id": "S2o2RTzDs70D",
        "colab_type": "text"
      },
      "source": [
        "![image](resources/qgss-header.png)"
      ]
    },
    {
      "cell_type": "markdown",
      "metadata": {
        "id": "ELPx7Yb2s70F",
        "colab_type": "text"
      },
      "source": [
        "# Lab 7: Qubit Spectroscopy"
      ]
    },
    {
      "cell_type": "code",
      "metadata": {
        "id": "OfsgRBBps-SY",
        "colab_type": "code",
        "colab": {
          "base_uri": "https://localhost:8080/",
          "height": 122
        },
        "outputId": "059ed9f5-bdbc-40e0-8341-61d8883d3a2d"
      },
      "source": [
        "from google.colab import drive\n",
        "drive.mount('/content/drive')"
      ],
      "execution_count": 1,
      "outputs": [
        {
          "output_type": "stream",
          "text": [
            "Go to this URL in a browser: https://accounts.google.com/o/oauth2/auth?client_id=947318989803-6bn6qk8qdgf4n4g3pfee6491hc0brc4i.apps.googleusercontent.com&redirect_uri=urn%3aietf%3awg%3aoauth%3a2.0%3aoob&response_type=code&scope=email%20https%3a%2f%2fwww.googleapis.com%2fauth%2fdocs.test%20https%3a%2f%2fwww.googleapis.com%2fauth%2fdrive%20https%3a%2f%2fwww.googleapis.com%2fauth%2fdrive.photos.readonly%20https%3a%2f%2fwww.googleapis.com%2fauth%2fpeopleapi.readonly\n",
            "\n",
            "Enter your authorization code:\n",
            "··········\n",
            "Mounted at /content/drive\n"
          ],
          "name": "stdout"
        }
      ]
    },
    {
      "cell_type": "code",
      "metadata": {
        "id": "e9AJ3-zKtISw",
        "colab_type": "code",
        "colab": {
          "base_uri": "https://localhost:8080/",
          "height": 34
        },
        "outputId": "d7256742-5695-4fa6-be3b-c3abad83b716"
      },
      "source": [
        "%cd /content/drive/My Drive/lab7"
      ],
      "execution_count": 2,
      "outputs": [
        {
          "output_type": "stream",
          "text": [
            "/content/drive/My Drive/lab7\n"
          ],
          "name": "stdout"
        }
      ]
    },
    {
      "cell_type": "markdown",
      "metadata": {
        "id": "CplVTNV3s70G",
        "colab_type": "text"
      },
      "source": [
        "In this lab, you will take what you learned about the interactions between qubits and resonators to perform transmon spectroscopy with the pulse simulator."
      ]
    },
    {
      "cell_type": "markdown",
      "metadata": {
        "id": "6ST_uIdHs70H",
        "colab_type": "text"
      },
      "source": [
        "### Installing Necessary Packages\n",
        "Before we begin, you will need to install some prerequisites into your environment. Run the cell below to complete these installations. At the end, the cell outputs will be cleared."
      ]
    },
    {
      "cell_type": "code",
      "metadata": {
        "id": "bBeJC4k1s70I",
        "colab_type": "code",
        "colab": {}
      },
      "source": [
        "!pip install -U -r grading_tools/requirements.txt\n",
        "\n",
        "from IPython.display import clear_output\n",
        "clear_output()"
      ],
      "execution_count": 4,
      "outputs": []
    },
    {
      "cell_type": "code",
      "metadata": {
        "id": "MIoiuyS7toF6",
        "colab_type": "code",
        "colab": {}
      },
      "source": [
        "!pip install qiskit\n",
        "from IPython.display import clear_output\n",
        "clear_output()"
      ],
      "execution_count": 6,
      "outputs": []
    },
    {
      "cell_type": "markdown",
      "metadata": {
        "id": "TxYmzAiGs70M",
        "colab_type": "text"
      },
      "source": [
        "## Simulating the Transmon as a Duffing Oscillator"
      ]
    },
    {
      "cell_type": "markdown",
      "metadata": {
        "id": "LHJw7pcHs70N",
        "colab_type": "text"
      },
      "source": [
        "As you learned in Lecture 6, the transmon can be understood as a Duffing oscillator specified by a frequency $\\nu$, anharmonicity $\\alpha$, and drive strength $r$, which results in the Hamiltonian\n",
        "$$\n",
        "   \\hat{H}_{\\rm Duff}/\\hbar = 2\\pi\\nu a^\\dagger a + \\pi \\alpha a^\\dagger a(a^\\dagger a - 1) + 2 \\pi r (a + a^\\dagger) \\times D(t),\n",
        "$$\n",
        "\n",
        "where $D(t)$ is the signal on the drive channel for the qubit, and $a^\\dagger$ and $a$ are, respectively, the creation and annihilation operators for the qubit. Note that the drive strength $r$ sets the scaling of the control term, with $D(t)$ assumed to be a complex and unitless number satisfying $|D(t)| \\leq 1$. "
      ]
    },
    {
      "cell_type": "markdown",
      "metadata": {
        "id": "AQR1UoO3s70N",
        "colab_type": "text"
      },
      "source": [
        "## Qiskit Pulse Overview\n",
        "\n",
        "As a brief overview, Qiskit Pulse schedules (experiments) consist of Instructions (i.e., Play) acting on Channels (i.e., the drive channel). Here is a summary table of available Instructions and Channels:\n",
        "\n",
        "![image](resources/pulse-instr.png)\n",
        "\n",
        "For more detail, this table summarizes the interaction of the channels with the actual quantum hardware:\n",
        "\n",
        "![image](resources/pulse-user-device-layers.png)\n",
        "\n",
        "However, we find it is more instructive to begin with guided programming in Pulse. Below you will learn how to create pulses, schedules, and run experiments on a simulator. These lessons can be immediately applied to actual pulse-enabled quantum hardware, in particular [`ibmq_armonk`](https://www.ibm.com/blogs/research/2019/12/qiskit-openpulse/)."
      ]
    },
    {
      "cell_type": "markdown",
      "metadata": {
        "id": "bewATdb5s70O",
        "colab_type": "text"
      },
      "source": [
        "## Let's get started!"
      ]
    },
    {
      "cell_type": "markdown",
      "metadata": {
        "id": "1G4bIbuVs70P",
        "colab_type": "text"
      },
      "source": [
        "In most of the cells below, nothing needs to be modified. **However, you will need to execute the cells by pressing `shift+Enter` in each code block**. In order to keep things tidy and focus on the important aspects of Qiskit Pulse, the following cells make use of methods from the `helper` module. For the gory details, please refer back to the [Lab 7 notebook](lab7-jc-spect-readout.ipynb). Just as in Lab 6, before coming to the discussion of **Sideband Modulation**, the following code blocks\n",
        "\n",
        "- create backend pulse simulator and instantiate the transmon as a Duffing oscillator of frequency $\\sim 5$ GHz\n",
        "- import libraries for numerics and visualization, and define helpful constants\n",
        "- create the channels for the pulse schedule and define measurment schedule (we will only work with the drive channel)"
      ]
    },
    {
      "cell_type": "code",
      "metadata": {
        "id": "SGenxSuFs70R",
        "colab_type": "code",
        "colab": {}
      },
      "source": [
        "# our backend is the Pulse Simulator\n",
        "from resources import helper\n",
        "from qiskit.providers.aer import PulseSimulator\n",
        "backend_sim = PulseSimulator()\n",
        "\n",
        "# sample duration for pulse instructions \n",
        "dt = 1e-9\n",
        "\n",
        "# create the model\n",
        "duffing_model = helper.get_transmon(dt)\n",
        "\n",
        "# get qubit frequency from Duffing model\n",
        "qubit_lo_freq = duffing_model.hamiltonian.get_qubit_lo_from_drift()"
      ],
      "execution_count": 7,
      "outputs": []
    },
    {
      "cell_type": "code",
      "metadata": {
        "id": "JIxFAzDTs70W",
        "colab_type": "code",
        "colab": {}
      },
      "source": [
        "import numpy as np\n",
        "\n",
        "# visualization tools\n",
        "import matplotlib.pyplot as plt\n",
        "plt.style.use('dark_background')\n",
        "\n",
        "# unit conversion factors -> all backend properties returned in SI (Hz, sec, etc)\n",
        "GHz = 1.0e9 # Gigahertz\n",
        "MHz = 1.0e6 # Megahertz\n",
        "kHz = 1.0e3 # kilohertz\n",
        "us = 1.0e-6 # microseconds\n",
        "ns = 1.0e-9 # nanoseconds"
      ],
      "execution_count": 8,
      "outputs": []
    },
    {
      "cell_type": "markdown",
      "metadata": {
        "id": "E-jqFVXts70a",
        "colab_type": "text"
      },
      "source": [
        "### Instantiate channels and create measurement schedule\n",
        "\n",
        "We will use the same measurement schedule throughout, whereas the drive schedules will vary. This must be built for the simulator, for a real backend we can ask for its default measurement pulse."
      ]
    },
    {
      "cell_type": "code",
      "metadata": {
        "id": "ob9sCp0Ds70a",
        "colab_type": "code",
        "colab": {}
      },
      "source": [
        "from qiskit import pulse\n",
        "from qiskit.pulse import Play, Acquire\n",
        "from qiskit.pulse.pulse_lib import GaussianSquare\n",
        "\n",
        "# qubit to be used throughout the notebook\n",
        "qubit = 0\n",
        "\n",
        "### Collect the necessary channels\n",
        "drive_chan = pulse.DriveChannel(qubit)\n",
        "meas_chan = pulse.MeasureChannel(qubit)\n",
        "acq_chan = pulse.AcquireChannel(qubit)\n",
        "\n",
        "# Construct a measurement schedule and add it to an InstructionScheduleMap\n",
        "meas_samples = 1200\n",
        "meas_pulse = GaussianSquare(duration=meas_samples, amp=0.025, sigma=4, width=1150)\n",
        "measure_sched = Play(meas_pulse, meas_chan) | Acquire(meas_samples, acq_chan, pulse.MemorySlot(qubit))\n",
        "\n",
        "inst_map = pulse.InstructionScheduleMap()\n",
        "inst_map.add('measure', [qubit], measure_sched)\n",
        "\n",
        "# save the measurement/acquire pulse for later\n",
        "measure = inst_map.get('measure', qubits=[qubit])"
      ],
      "execution_count": 9,
      "outputs": []
    },
    {
      "cell_type": "markdown",
      "metadata": {
        "id": "KmEqF686s70d",
        "colab_type": "text"
      },
      "source": [
        "## Sideband Modulation\n",
        "\n",
        "Unlike the case of running on an actual device, with the simulator we can only set the (local) oscillator frequency of the drive, $f_{\\rm LO}$, to a single value. In order to sweep frequencies to perform spectroscopy, we use a trick called *sideband modulation*, where we modulate our spectroscopy pulse by a sideband frequency $f_{\\rm SB}$ so that the pulse applied to the qubit is of (radio) frequency\n",
        "\n",
        "$$ f_{\\rm RF} = f_{\\rm LO} + f_{\\rm SB}. $$\n",
        "\n",
        "This is achieved by multiplying each sample amplitude by a complex exponential \n",
        "\n",
        "$$ d_j^{\\rm SB} = \\sum_j e^{2\\pi f_{\\rm SB} t_j} d_j $$\n",
        "\n",
        "but we will tuck the details away in the `helper` module. The important thing is that we must apply the sideband for each pulse in order to change its frequency. "
      ]
    },
    {
      "cell_type": "markdown",
      "metadata": {
        "id": "jPADVQPbs70e",
        "colab_type": "text"
      },
      "source": [
        "Now, instead of `assemble`'ing a single schedule with an array of schedule LO's as, we will create a schedule of the same pulse *sidebanded* by an array of sideband frequecies at a fixed LO frequency. Since we are now considering a transmon, we have multiple energy levels we can perform spectroscopy on. We will being with spectroscopy of the $|0\\rangle \\to |1\\rangle$ transition, which is the one used as the qubit, often called the *computational basis*."
      ]
    },
    {
      "cell_type": "code",
      "metadata": {
        "id": "_IKZ7UaWs70e",
        "colab_type": "code",
        "colab": {}
      },
      "source": [
        "from qiskit.pulse import pulse_lib\n",
        "\n",
        "# the same spect pulse used in every schedule\n",
        "drive_amp = 0.9\n",
        "drive_sigma = 16\n",
        "drive_duration = 128\n",
        "spec_pulse = pulse_lib.gaussian(duration=drive_duration, amp=drive_amp, \n",
        "                                sigma=drive_sigma, name=f\"Spec drive amplitude = {drive_amp}\")\n",
        "\n",
        "# Construct an np array of the frequencies for our experiment\n",
        "spec_freqs_GHz = np.arange(5.0, 5.2, 0.005)\n",
        "\n",
        "# Create the base schedule\n",
        "# Start with drive pulse acting on the drive channel\n",
        "spec_schedules = []\n",
        "for freq in spec_freqs_GHz:\n",
        "    sb_spec_pulse = helper.apply_sideband(spec_pulse, qubit_lo_freq[0]-freq*GHz, dt)\n",
        "    \n",
        "    spec_schedule = pulse.Schedule(name='SB Frequency = {}'.format(freq))\n",
        "    spec_schedule += Play(sb_spec_pulse, drive_chan)\n",
        "    # The left shift `<<` is special syntax meaning to shift the start time of the schedule by some duration\n",
        "    spec_schedule += measure << spec_schedule.duration\n",
        "    spec_schedules.append(spec_schedule)"
      ],
      "execution_count": 10,
      "outputs": []
    },
    {
      "cell_type": "code",
      "metadata": {
        "id": "N1Ak40yMs70k",
        "colab_type": "code",
        "colab": {},
        "outputId": "90d2f645-bed9-430a-edcc-d7593d8afbb0"
      },
      "source": [
        "spec_schedules[0].draw()"
      ],
      "execution_count": null,
      "outputs": [
        {
          "output_type": "execute_result",
          "data": {
            "image/png": "[encoded data removed]",
            "text/plain": [
              "<Figure size 720x864 with 1 Axes>"
            ]
          },
          "metadata": {
            "tags": []
          },
          "execution_count": 6
        }
      ]
    },
    {
      "cell_type": "code",
      "metadata": {
        "id": "IpD-K5jrs70n",
        "colab_type": "code",
        "colab": {}
      },
      "source": [
        "from qiskit import assemble\n",
        "\n",
        "# assemble the schedules into a Qobj\n",
        "spec01_qobj = assemble(**helper.get_params('spec01', globals()))"
      ],
      "execution_count": 11,
      "outputs": []
    },
    {
      "cell_type": "code",
      "metadata": {
        "id": "9KsvWSpEs70q",
        "colab_type": "code",
        "colab": {}
      },
      "source": [
        "# run the simulation\n",
        "spec01_result = backend_sim.run(spec01_qobj, duffing_model).result()"
      ],
      "execution_count": 12,
      "outputs": []
    },
    {
      "cell_type": "code",
      "metadata": {
        "id": "0TVmCL_vs70t",
        "colab_type": "code",
        "colab": {}
      },
      "source": [
        "# retrieve the data from the experiment\n",
        "spec01_values = helper.get_values_from_result(spec01_result, qubit)"
      ],
      "execution_count": 13,
      "outputs": []
    },
    {
      "cell_type": "markdown",
      "metadata": {
        "id": "b8agGhQWs70v",
        "colab_type": "text"
      },
      "source": [
        "We will fit the spectroscopy signal to a Lorentzian function of the form\n",
        "\n",
        "$$ \\frac{AB}{\\pi[(f-f_{01})^2 + B^2]} + C $$\n",
        "\n",
        "to find the qubit frequency $f_{01}$."
      ]
    },
    {
      "cell_type": "code",
      "metadata": {
        "id": "UyntpuCWs70w",
        "colab_type": "code",
        "colab": {
          "base_uri": "https://localhost:8080/",
          "height": 296
        },
        "outputId": "1204fe47-2b2d-4c82-fc81-15379a657a91"
      },
      "source": [
        "fit_params, y_fit = helper.fit_lorentzian(spec_freqs_GHz, spec01_values, [5, 5, 1, 0])\n",
        "\n",
        "f01 = fit_params[1]\n",
        "\n",
        "plt.scatter(spec_freqs_GHz, np.real(spec01_values), color='white') # plot real part of sweep values\n",
        "plt.plot(spec_freqs_GHz, y_fit, color='red')\n",
        "plt.xlim([min(spec_freqs_GHz), max(spec_freqs_GHz)])\n",
        "\n",
        "plt.xlabel(\"Frequency [GHz]\")\n",
        "plt.ylabel(\"Measured Signal [a.u.]\")\n",
        "plt.show()\n",
        "\n",
        "print(\"01 Spectroscopy yields %f GHz\"%f01)"
      ],
      "execution_count": 14,
      "outputs": [
        {
          "output_type": "display_data",
          "data": {
            "image/png": "[encoded data removed]",
            "text/plain": [
              "<Figure size 432x288 with 1 Axes>"
            ]
          },
          "metadata": {
            "tags": []
          }
        },
        {
          "output_type": "stream",
          "text": [
            "01 Spectroscopy yields 5.041427 GHz\n"
          ],
          "name": "stdout"
        }
      ]
    },
    {
      "cell_type": "markdown",
      "metadata": {
        "id": "NHrhtYw2s700",
        "colab_type": "text"
      },
      "source": [
        "# Exercise 1: Spectroscopy of 1->2 transition\n",
        "\n",
        "In order to observe the transition between the $|1\\rangle$ and $|2\\rangle$ states of the transmon, we must apply an $X_\\pi$ pulse to transition the qubit from $|0\\rangle$ to $|1\\rangle$ first. Because we are using the simulator, we must first define our $X_\\pi$ pulse from the Rabi experiment in Lab 6."
      ]
    },
    {
      "cell_type": "code",
      "metadata": {
        "id": "Oenj_zfps701",
        "colab_type": "code",
        "colab": {}
      },
      "source": [
        "x180_amp = 0.629070 #from lab 6 Rabi experiment\n",
        "\n",
        "x_pulse = pulse_lib.gaussian(duration=drive_duration,\n",
        "                             amp=x180_amp, \n",
        "                             sigma=drive_sigma,\n",
        "                             name='x_pulse')"
      ],
      "execution_count": 15,
      "outputs": []
    },
    {
      "cell_type": "markdown",
      "metadata": {
        "id": "SJ5xdxm0s704",
        "colab_type": "text"
      },
      "source": [
        "The anharmonicity of our transmon qubits is typically around $-300$ MHz, so we will sweep around that value. "
      ]
    },
    {
      "cell_type": "code",
      "metadata": {
        "id": "X_H5i_2qs706",
        "colab_type": "code",
        "colab": {}
      },
      "source": [
        "anharmonicity_guess_GHz = -0.3\n",
        "\n",
        "def build_spec12_pulse_schedule(freq):\n",
        "    sb12_spec_pulse = helper.apply_sideband(spec_pulse, (freq + anharmonicity_guess_GHz)*GHz, dt)\n",
        "    \n",
        "    ### create a 12 spectroscopy pulse schedule spec12_schedule (already done)\n",
        "    ### play an x pulse on the drive channel\n",
        "    ### play sidebanded spec pulse on the drive channel\n",
        "    ### add measurement pulse to schedule\n",
        "    \n",
        "    spec12_schedule = pulse.Schedule()\n",
        "    \n",
        "    ### WRITE YOUR CODE BETWEEN THESE LINES - START\n",
        "    \n",
        "    spec12_schedule += Play(x_pulse, drive_chan)\n",
        "    spec12_schedule += Play(sb12_spec_pulse, drive_chan)\n",
        "    spec12_schedule += measure << spec12_schedule.duration\n",
        "    \n",
        "    ### WRITE YOUR CODE BETWEEN THESE LINES - END\n",
        "    \n",
        "    return spec12_schedule"
      ],
      "execution_count": 16,
      "outputs": []
    },
    {
      "cell_type": "code",
      "metadata": {
        "id": "eQCjBl7-s70-",
        "colab_type": "code",
        "colab": {}
      },
      "source": [
        "sb_freqs_GHz = np.arange(-.1, .1, 0.005) # sweep +/- 100 MHz around guess\n",
        "\n",
        "# now vary the sideband frequency for each spec pulse\n",
        "spec_schedules = []\n",
        "for freq in sb_freqs_GHz:\n",
        "    spec_schedules.append(build_spec12_pulse_schedule(freq))"
      ],
      "execution_count": 17,
      "outputs": []
    },
    {
      "cell_type": "code",
      "metadata": {
        "id": "TvW7pmSbs71B",
        "colab_type": "code",
        "colab": {
          "base_uri": "https://localhost:8080/",
          "height": 750
        },
        "outputId": "bbef058d-0beb-48ed-f618-ccad1393b814"
      },
      "source": [
        "spec_schedules[0].draw()"
      ],
      "execution_count": 18,
      "outputs": [
        {
          "output_type": "execute_result",
          "data": {
            "image/png": "[encoded data removed]",
            "text/plain": [
              "<Figure size 720x864 with 1 Axes>"
            ]
          },
          "metadata": {
            "tags": []
          },
          "execution_count": 18
        }
      ]
    },
    {
      "cell_type": "code",
      "metadata": {
        "id": "5wyiAP_Vs71E",
        "colab_type": "code",
        "colab": {}
      },
      "source": [
        "# assemble the schedules into a Qobj\n",
        "spec12_qobj = assemble(**helper.get_params('spec12', globals()))\n",
        "answer1 = spec12_qobj"
      ],
      "execution_count": 19,
      "outputs": []
    },
    {
      "cell_type": "code",
      "metadata": {
        "id": "jrpPVv46s71H",
        "colab_type": "code",
        "colab": {}
      },
      "source": [
        "# run the simulation\n",
        "spec12_result = backend_sim.run(spec12_qobj, duffing_model).result()"
      ],
      "execution_count": 20,
      "outputs": []
    },
    {
      "cell_type": "code",
      "metadata": {
        "id": "P173M_his71K",
        "colab_type": "code",
        "colab": {}
      },
      "source": [
        "# retrieve the data from the experiment\n",
        "spec12_values = helper.get_values_from_result(spec12_result, qubit)"
      ],
      "execution_count": 21,
      "outputs": []
    },
    {
      "cell_type": "markdown",
      "metadata": {
        "id": "QqoyRr0us71M",
        "colab_type": "text"
      },
      "source": [
        "We will again fit the spectroscopy signal to a Lorentzian function of the form\n",
        "\n",
        "$$ \\frac{AB}{\\pi[(f-f_{12})^2 + B^2]} + C $$\n",
        "\n",
        "to find the frequency of the $|1\\rangle \\to |2\\rangle$ transition $f_{12}$."
      ]
    },
    {
      "cell_type": "code",
      "metadata": {
        "id": "oWhyeAZWs71M",
        "colab_type": "code",
        "colab": {}
      },
      "source": [
        "anharm_offset = qubit_lo_freq[0]/GHz + anharmonicity_guess_GHz\n",
        "\n",
        "fit_params, y_fit = helper.fit_lorentzian(anharm_offset + sb_freqs_GHz, spec12_values, [5, 4.5, .1, 3])\n",
        "\n",
        "f12 = fit_params[1]\n",
        "\n",
        "plt.scatter(anharm_offset + sb_freqs_GHz, np.real(spec12_values), color='white') # plot real part of sweep values\n",
        "plt.plot(anharm_offset + sb_freqs_GHz, y_fit, color='red')\n",
        "plt.xlim([anharm_offset + min(sb_freqs_GHz), anharm_offset + max(sb_freqs_GHz)])\n",
        "\n",
        "plt.xlabel(\"Frequency [GHz]\")\n",
        "plt.ylabel(\"Measured Signal [a.u.]\")\n",
        "plt.show()\n",
        "\n",
        "print(\"12 Spectroscopy yields %f GHz\"%f12)\n",
        "print(\"Measured transmon anharmonicity is %f MHz\"%((f12-f01)*GHz/MHz))"
      ],
      "execution_count": null,
      "outputs": []
    },
    {
      "cell_type": "markdown",
      "metadata": {
        "id": "jhzkPO0as71O",
        "colab_type": "text"
      },
      "source": [
        "**Help us improve our educational tools by submitting your code**<br>\n",
        "If you would like to help us learn how to improve our educational materials and offerings, you can opt in to send us a copy of your Jupyter notebook. By executing the cell below, you consent to sending us the code in your Jupyter notebook. All of the personal information will be anonymized."
      ]
    },
    {
      "cell_type": "code",
      "metadata": {
        "id": "294vufkts71O",
        "colab_type": "code",
        "colab": {}
      },
      "source": [
        "from IPython.display import display, Javascript;display(Javascript('IPython.notebook.save_checkpoint();'));\n",
        "from grading_tools import send_code;send_code('ex1.ipynb')"
      ],
      "execution_count": null,
      "outputs": []
    },
    {
      "cell_type": "markdown",
      "metadata": {
        "id": "hpqDSj2Ss71R",
        "colab_type": "text"
      },
      "source": [
        "# Additional Resources\n",
        "\n",
        "- The Qiskit textbook sections that cover this material are\n",
        "  - [Circuit Quantum Electrodynamics](https://qiskit.org/textbook/ch-quantum-hardware/cQED-JC-SW.html)\n",
        "  - [Accessing Higher Energy States](https://qiskit.org/textbook/ch-quantum-hardware/accessing_higher_energy_states.html)\n",
        "\n",
        "- Watch the videos\n",
        "  - [Quantum Coding with Lauren Capelluto](https://www.youtube.com/watch?v=ZvipHRY-URs)\n",
        "  - [\"Qiskit Pulse: Programming Quantum Computers Through the Cloud with Pulses\"](https://www.youtube.com/watch?v=V_as5PufUiU) webinar at CQT by yours truly"
      ]
    }
  ]
}